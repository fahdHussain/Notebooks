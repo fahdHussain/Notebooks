{
 "cells": [
  {
   "cell_type": "markdown",
   "metadata": {
    "collapsed": true
   },
   "source": [
    "# Step 1: Write your Segmentation Algorithm\n",
    "\n",
    "Write a function that segments a leaf image, and returns a binary (`dtype='bool'`) image representing the segmentation.  You may add additional parameters besides the image to be segmented if you wish.  Your algorithm must use the random-walker segmentation (``skimage.segmentation.random_walker()``) and you should consider doing some region processing after segmentation to improve the result.\n",
    "\n",
    "_Hint: The challenge here is to automatically find suitable foreground and background markers for the random walker algorithm.  The noisy images make for an additional challenge, but that's why we're using random walker; becuase of its robustness to noise._\n",
    "\n",
    "_Hint: When you use `random_walker()` on a color image, make sure to set `multichannel=True`._\n"
   ]
  },
  {
   "cell_type": "markdown",
   "metadata": {},
   "source": []
  },
  {
   "cell_type": "code",
   "execution_count": 1,
   "metadata": {},
   "outputs": [],
   "source": [
    "\n",
    "\n",
    "def segleaf(I):\n",
    "    \"\"\"\n",
    "    Leaf segmentation using random walker\n",
    "    :param I: Input image\n",
    "    \n",
    "    (Feel free to add as many addtional parameters as you\n",
    "    want/need.)\n",
    "    \n",
    "    :return: \n",
    "    \"\"\"\n",
    "    pass  # This is just temporary to avoid a syntax error. Replace it with your return statement.\n"
   ]
  },
  {
   "cell_type": "markdown",
   "metadata": {},
   "source": [
    "# Step 2: Write a Validation driver program.\n",
    "\n",
    "Write code that segments each image, and computes the DSC for each segmentation.  Print the DSC of each segmentation as you perform it.  At the end, print the average of the DSC over all of the images. \n",
    "\n",
    "The general approach should be similar to Assignment 3.  For each input image (in the `images` folder):\n",
    "\n",
    "* load the image and it's ground truth\n",
    "* segment the input image \n",
    "* Compute the DSC from the segmented image and the ground truth image (this function is given below).\n",
    "* Print the DSC to the console.\n",
    "\n",
    "When finished, don't forget to print the average DSC for all images.  If you're getting a mean DSC of greater than 0.8, you're doing pretty good.\n",
    "\n",
    "_Feel free to define additional helper functions for your program if you think it will help._"
   ]
  },
  {
   "cell_type": "code",
   "execution_count": 1,
   "metadata": {},
   "outputs": [],
   "source": [
    "def dice_coefficient(bwA, bwG):\n",
    "    '''\n",
    "    Dice coefficient between two binary images\n",
    "    :param bwA: a binary (dtype='bool') image\n",
    "    :param bwG: a binary (dtype='bool') image\n",
    "    :return: the Dice coefficient between them\n",
    "    '''\n",
    "    intersection = np.logical_and(bwA, bwG)\n",
    "\n",
    "    return 2.0*np.sum(intersection) / (np.sum(bwA) + np.sum(bwG))\n",
    "\n",
    "\n",
    "# Write your validation driver here.  It should be structured similarly to the driver in Assignment 3.\n"
   ]
  },
  {
   "cell_type": "markdown",
   "metadata": {},
   "source": [
    "# Step 3:  Display Examples\n",
    "\n",
    "Choose one input image where your algoirthm performed very well.  Choose another image where the algorithm did not perform well.  Display the two original images with the boundary of the segmentation superimposed on top (just like Step 4 in of assignment 3).  Also display the same two image's ground truth with the segmentation superimposed on top.    Title the images to indicate which is the \"good\" example, and which is the \"bad\" example.\n"
   ]
  },
  {
   "cell_type": "code",
   "execution_count": 2,
   "metadata": {},
   "outputs": [],
   "source": [
    "import matplotlib.pyplot as plt\n"
   ]
  },
  {
   "cell_type": "markdown",
   "metadata": {},
   "source": [
    "# Step 4: Reflection\n",
    "\n",
    "### Answer the following questions right here in this block.\n",
    "\n",
    "1. In a few sentences, briefly explain what your segmentation algorithm from Step 1 does and how it works.  \n",
    "\n",
    "\t_Your answer:_  \n",
    "\n",
    "2. Consider your good result.  What, if anything, about your algoirthm is preventing you from getting a better result with this image?  If you weren't able to get any results, leave this blank, or explain what was preventing you from getting a result.\n",
    "\n",
    "\t_Your answer:_  \n",
    "\n",
    "3. Consider your bad result.  What is it about your algoirthm caused the poor performance on this image?   If you weren't able to get any results, leave this blank.\n",
    "\n",
    "\t_Your answer:_ (\"The images are noisy\" is not an acceptable answer.  Be more specific -- if noise is the problem, explain why your algorithm can't overcome the noise; what is preventing it, or what does it need to do better to succeed?)\n"
   ]
  },
  {
   "cell_type": "code",
   "execution_count": null,
   "metadata": {},
   "outputs": [],
   "source": []
  }
 ],
 "metadata": {
  "kernelspec": {
   "display_name": "Python 2",
   "language": "python",
   "name": "python2"
  },
  "language_info": {
   "codemirror_mode": {
    "name": "ipython",
    "version": 2
   },
   "file_extension": ".py",
   "mimetype": "text/x-python",
   "name": "python",
   "nbconvert_exporter": "python",
   "pygments_lexer": "ipython2",
   "version": "2.7.6"
  }
 },
 "nbformat": 4,
 "nbformat_minor": 0
}
